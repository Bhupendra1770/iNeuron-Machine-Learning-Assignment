{
 "cells": [
  {
   "cell_type": "markdown",
   "id": "e6f6cd37",
   "metadata": {},
   "source": [
    "### 1. Define the Bayesian interpretation of probability."
   ]
  },
  {
   "cell_type": "markdown",
   "id": "020e2034",
   "metadata": {},
   "source": [
    "Ans: Bayesian probability is the study of subjective probabilities or belief in an outcome, compared to the frequentist approach where probabilities are based purely on the past occurrence of the event. A Bayesian Network captures the joint probabilities of the events represented by the model."
   ]
  },
  {
   "cell_type": "markdown",
   "id": "92ba0bcb",
   "metadata": {},
   "source": [
    "### 2. Define probability of a union of two events with equation.\n",
    "Ans: The general probability addition rule for the union of two events states that P(A∪B)=P(A)+P(B)−P(A∩B), where A∩B is the intersection of the two sets."
   ]
  },
  {
   "cell_type": "markdown",
   "id": "5b0b2293",
   "metadata": {},
   "source": [
    "### 3. What is joint probability? What is its formula?\n",
    "Ans: Probabilities are combined using multiplication, therefore the joint probability of independent events is calculated as the probability of event A multiplied by the probability of event B. This can be stated formally as follows:\n",
    "\n",
    "Joint Probability: P(A and B) = P(A)*P(B)"
   ]
  },
  {
   "cell_type": "markdown",
   "id": "0d6e874c",
   "metadata": {},
   "source": [
    "### 4. What is chain rule of probability?\n",
    "Ans: The chain rule, or general product rule, calculates any component of the joint distribution of a set of random variables using only conditional probabilities. This probability theory is used as a foundation for backpropagation and in creating Bayesian networks."
   ]
  },
  {
   "cell_type": "markdown",
   "id": "20582489",
   "metadata": {},
   "source": [
    "### 5. What is conditional probability means? What is the formula of it?\n",
    "Ans: Conditional probability is defined as the likelihood of an event or outcome occurring, based on the occurrence of a previous event or outcome.\n",
    "\n",
    "Conditional probability is calculated by multiplying the probability of the preceding event by the updated probability of the succeeding, or conditional, event."
   ]
  },
  {
   "cell_type": "markdown",
   "id": "d83b37d6",
   "metadata": {},
   "source": [
    "### 6. What are continuous random variables?\n",
    "Ans: A continuous random variable X takes all values in a given interval of numbers. \n",
    "- The probability distribution of a continuous random variable is shown by a density curve. \n",
    "- The probability that X is between an interval of numbers is the area under the density curve between the interval endpoints."
   ]
  },
  {
   "cell_type": "markdown",
   "id": "b68ac6c2",
   "metadata": {},
   "source": [
    "### 7. What are Bernoulli distributions? What is the formula of it?\n",
    "Ans: A Bernoulli distribution is a discrete probability distribution for a Bernoulli trial a random experiment that has only two outcomes (usually called a Succes or a Failure).The expected value for a random variable X.\n",
    "\n",
    "For a Bernoulli distribution is: E[X] = p."
   ]
  },
  {
   "cell_type": "markdown",
   "id": "dc488bf9",
   "metadata": {},
   "source": [
    "### 8. What is binomial distribution? What is the formula?\n",
    "Ans: The binomial is a type of distribution that has two possible outcomes (the prefix “bi” means two, or twice).For example, a coin toss has only two possible outcomes: heads or tails and taking a test could have two possible outcomes: pass or fail.\n",
    "\n",
    "A Binomial Distribution shows either (S)uccess or (F)ailure."
   ]
  },
  {
   "cell_type": "markdown",
   "id": "f2b7f9c1",
   "metadata": {},
   "source": [
    "### 9. What is Poisson distribution? What is the formula?\n",
    "Ans: A Poisson distribution is defined as a discrete frequency distribution that gives the probability of the number of independent events that occur in the fixed time.\n",
    "\n",
    "In statistics, a Poisson distribution is a probability distribution that is used to show how many times an event is likely to occur over a specified period. ... The Poisson distribution is a discrete function, meaning that the variable can only take specific values in a (potentially infinite) list."
   ]
  },
  {
   "cell_type": "markdown",
   "id": "7be8dda6",
   "metadata": {},
   "source": [
    "### 10. Define covariance ?\n",
    "Ans: Covariance is a measure of how much two random variables vary together. It's similar to variance, but where variance tells you how a single variable varies, co variance tells you how two variables vary together."
   ]
  },
  {
   "cell_type": "markdown",
   "id": "d68eaf09",
   "metadata": {},
   "source": [
    "### 11. Define correlation ?\n",
    "Ans: Correlation explains how one or more variables are related to each other. These variables can be input data features which have been used to forecast our target variable. It's a bi-variate analysis measure which describes the association between different variables."
   ]
  },
  {
   "cell_type": "markdown",
   "id": "53ca3c1e",
   "metadata": {},
   "source": [
    "### 12. Define sampling with replacement. Give example."
   ]
  },
  {
   "cell_type": "markdown",
   "id": "a0e92bc4",
   "metadata": {},
   "source": [
    "Ans: When a sampling unit is drawn from a finite population and is returned to that population, after its characteristic(s) have been recorded, before the next unit is drawn, the sampling is said to be \"with replacement\".\n",
    "\n",
    "example: sampling with replacement, in which a subset of observations are selected randomly, and an observation may be selected more than once.\n"
   ]
  },
  {
   "cell_type": "markdown",
   "id": "9b5b34a6",
   "metadata": {},
   "source": [
    "### 13. What is sampling without replacement? Give example.\n",
    "Ans: In sampling without replacement, each sample unit of the population has only one chance to be selected in the sample. For example, if one draws a simple random sample such that no unit occurs more than one time in the sample, the sample is drawn without replacement.\n",
    "\n",
    "example: sampling without replacement, in which a subset of the observations are selected randomly, and once an observation is selected it cannot be selected again"
   ]
  },
  {
   "cell_type": "markdown",
   "id": "bff23177",
   "metadata": {},
   "source": [
    "### 14.What is hypothesis? Give example.\n",
    "Ans: A statement about the nature of a population. It is often stated in terms of a population parameter. Null hypothesis: A statistical hypothesis that is to be tested. Alternative hypothesis: The alternative to the null hypothesis. Test statistic a function of the sample data.\n",
    "\n",
    "example: Smoking is a prominent cause of lung cancer.\" The dependent variable, lung cancer, is dependent on the independent variable, smoking."
   ]
  }
 ],
 "metadata": {
  "kernelspec": {
   "display_name": "Python 3 (ipykernel)",
   "language": "python",
   "name": "python3"
  },
  "language_info": {
   "codemirror_mode": {
    "name": "ipython",
    "version": 3
   },
   "file_extension": ".py",
   "mimetype": "text/x-python",
   "name": "python",
   "nbconvert_exporter": "python",
   "pygments_lexer": "ipython3",
   "version": "3.9.12"
  }
 },
 "nbformat": 4,
 "nbformat_minor": 5
}
