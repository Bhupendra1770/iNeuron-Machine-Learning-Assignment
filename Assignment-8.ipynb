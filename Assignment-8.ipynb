{
 "cells": [
  {
   "cell_type": "markdown",
   "id": "c6434a3d",
   "metadata": {},
   "source": [
    "### 1. What exactly is a feature? Give an example to illustrate your point ?"
   ]
  },
  {
   "cell_type": "markdown",
   "id": "a54c6598",
   "metadata": {},
   "source": [
    "Ans: Features are the basic building blocks of datasets. The quality of the features in your dataset has a major impact on the quality of the insights you will gain when you use that dataset for machine learning.\n",
    "\n",
    "Additionally, different business problems within the same industry do not necessarily require the same features, which is why it is important to have a strong understanding of the business goals of your data science project."
   ]
  },
  {
   "cell_type": "markdown",
   "id": "d3f2389b",
   "metadata": {},
   "source": [
    "### 2. What are the various circumstances in which feature construction is required ?"
   ]
  },
  {
   "cell_type": "markdown",
   "id": "aac3f2f0",
   "metadata": {},
   "source": [
    "Ans: The features in your data will directly influence the predictive models you use and the results you can achieve. Your results are dependent on many inter-dependent properties. You need great features that describe the structures inherent in your data. Better features means flexibility."
   ]
  },
  {
   "cell_type": "markdown",
   "id": "e02b1975",
   "metadata": {},
   "source": [
    "### 3. Describe how nominal variables are encoded ?"
   ]
  },
  {
   "cell_type": "markdown",
   "id": "343e67cc",
   "metadata": {},
   "source": [
    "Ans: Nominal data is made of discrete values with no numerical relationship between the different categories — mean and median are meaningless. Animal species is one example. For example, cat is not higher than dog and lower than bird."
   ]
  },
  {
   "cell_type": "markdown",
   "id": "9efed3e8",
   "metadata": {},
   "source": [
    "### 4. Describe how numeric features are converted to categorical features ?\n",
    "Ans: Converting categorical features into numeric features using domain knowledge. For example, we are given a list of countries and say we know the distance to these countries from India then we can replace it with distance from India. So, every country can be represented as its distance from India."
   ]
  },
  {
   "cell_type": "markdown",
   "id": "b2574de0",
   "metadata": {},
   "source": [
    "### 5. Describe the feature selection wrapper approach. State the advantages and disadvantages of this approach ?\n",
    "Ans: Wrapper methods measure the “usefulness” of features based on the classifier performance. In contrast, the filter methods pick up the intrinsic properties of the features (i.e., the “relevance” of the features) measured via univariate statistics instead of cross-validation performance.\n",
    "\n",
    "In wrapper methods, the feature selection process is based on a specific machine learning algorithm that we are trying to fit on a given dataset. It follows a greedy search approach by evaluating all the possible combinations of features against the evaluation criterion.The wrapper classification algorithms with joint dimensionality reduction and classification can also be used but these methods have high computation cost, lower discriminative power. Moreover, these methods depend on the efficient selection of classifiers for obtaining high accuracy"
   ]
  },
  {
   "cell_type": "markdown",
   "id": "82e552cc",
   "metadata": {},
   "source": [
    "### 6. When is a feature considered irrelevant? What can be said to quantify it ?\n",
    "Ans: Irrelevant features can never contribute to prediction accuracy, by definition. Also to quantify it we need to first check the list of features, There are three types of feature selection:\n",
    "\n",
    "- Wrapper methods (forward, backward, and stepwise selection)\n",
    "- Filter methods (ANOVA, Pearson correlation, variance thresholding)\n",
    "- Embedded methods (Lasso, Ridge, Decision Tree)."
   ]
  },
  {
   "cell_type": "markdown",
   "id": "caf9f1d6",
   "metadata": {},
   "source": [
    "### 7. When is a function considered redundant? What criteria are used to identify features that could be redundant ?\n",
    "Ans: If two features {X1, X2} are highly correlated, then the two features become redundant features since they have same information in terms of correlation measure. In other words, the correlation measure provides statistical association between any given a pair of features."
   ]
  },
  {
   "cell_type": "markdown",
   "id": "28951dee",
   "metadata": {},
   "source": [
    "### 8. What are the various distance measurements used to determine feature similarity ?\n",
    "Ans: Three of the most commonly used distance measures in machine learning are as follows:\n",
    "\n",
    "- Euclidean Distance.\n",
    "- Manhattan Distance.\n",
    "- Hamming Distance.\n"
   ]
  },
  {
   "cell_type": "markdown",
   "id": "0d922641",
   "metadata": {},
   "source": [
    "### 9. State difference between Euclidean and Manhattan distances ?\n",
    "Ans: Euclidean distance is the shortest path between source and destination which is a straight line. But Manhattan distance is sum of all the real distances between source(s) and destination(d) and each distance are always the straight lines.\n",
    "\n",
    "The Euclidean distance will always be shorter than (or equal to) the Manhattan distance, because of the triangle inequality."
   ]
  },
  {
   "cell_type": "markdown",
   "id": "f4816f3f",
   "metadata": {},
   "source": [
    "### 10. Distinguish between feature transformation and feature selection ?\n",
    "Ans: Feature selection is for filtering irrelevant or redundant features from your dataset. The key difference between feature selection and transformation is that feature selection keeps a subset of the original features while feature transformation creates brand new ones."
   ]
  },
  {
   "cell_type": "markdown",
   "id": "580d46ff",
   "metadata": {},
   "source": [
    "### 11. Make brief notes on any two of the following:\n",
    "\n",
    "1. SVD (Standard Variable Diameter Diameter)\n",
    "\n",
    "2. Collection of features using a hybrid approach\n",
    "\n",
    "3. The width of the silhouette\n",
    "\n",
    "4. Receiver operating characteristic curve"
   ]
  },
  {
   "cell_type": "markdown",
   "id": "fd3bbc71",
   "metadata": {},
   "source": [
    "Ans:\n",
    "1. The width of the silhouette\n",
    "\n",
    "Cluster analysis plays vital role in pattern recognition in several fields of science. Silhouette width is a widely used index for assessing the fit of individual objects in the classification, as well as the quality of clusters and the entire classification. Silhouette combines two clustering criteria, compactness and separation, which imply that spherical cluster shapes are preferred over others—a property that can be seen as a disadvantage in the presence of complex, nonspherical clusters, which is common in real situations. We suggest a generalization of the silhouette width using the generalized mean. By changing the p parameter of the generalized mean between −∞ and +∞, several specific summary statistics, including the minimum, maximum, the arithmetic, harmonic, and geometric means, can be reproduced. Implementing the generalized mean in the calculation of silhouette width allows for changing the sensitivity of the index to compactness versus connectedness. With higher sensitivity to connectedness, the preference of silhouette width toward spherical clusters should reduce.\n",
    "\n",
    "\n",
    "2. Receiver operating characteristic curve\n",
    "\n",
    "An ROC curve (receiver operating characteristic curve) is a graph showing the performance of a classification model at all classification thresholds. This curve plots two parameters:\n",
    "\n",
    "True Positive Rate\n",
    "False Positive Rate\n",
    "\n",
    "An ROC curve plots TPR vs. FPR at different classification thresholds. Lowering the classification threshold classifies more items as positive, thus increasing both False Positives and True Positives.To compute the points in an ROC curve, we could evaluate a logistic regression model many times with different classification thresholds, but this would be inefficient. Fortunately, there's an efficient, sorting-based algorithm that can provide this information for us, called AUC.\n",
    "\n"
   ]
  }
 ],
 "metadata": {
  "kernelspec": {
   "display_name": "Python 3 (ipykernel)",
   "language": "python",
   "name": "python3"
  },
  "language_info": {
   "codemirror_mode": {
    "name": "ipython",
    "version": 3
   },
   "file_extension": ".py",
   "mimetype": "text/x-python",
   "name": "python",
   "nbconvert_exporter": "python",
   "pygments_lexer": "ipython3",
   "version": "3.9.12"
  }
 },
 "nbformat": 4,
 "nbformat_minor": 5
}
