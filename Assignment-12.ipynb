{
 "cells": [
  {
   "cell_type": "markdown",
   "id": "11112786",
   "metadata": {},
   "source": [
    "### 1. What is prior probability ? Give an example ?"
   ]
  },
  {
   "cell_type": "markdown",
   "id": "104d5547",
   "metadata": {},
   "source": [
    "Ans: Prior probability refers to the probability of an event occurring before any new evidence is taken into consideration. It reflects the degree of belief or knowledge about the event before any new data is collected. It is also called prior belief or prior distribution.\n",
    "\n",
    "For example, in a medical diagnosis, if a disease is rare, the prior probability of a patient having the disease will be low, even if the patient shows symptoms of the disease. But if the patient's test results are positive, the prior probability will be updated to reflect this new information."
   ]
  },
  {
   "cell_type": "markdown",
   "id": "114857d4",
   "metadata": {},
   "source": [
    "### 2. What is posterior probability ? Give an example ?"
   ]
  },
  {
   "cell_type": "markdown",
   "id": "a674bcef",
   "metadata": {},
   "source": [
    "Ans: Posterior probability refers to the probability of an event occurring after new evidence or data is taken into consideration. It reflects the updated degree of belief or knowledge about the event based on the new information. It is also known as the updated probability or the conditional probability.\n",
    "\n",
    "For example, in a medical diagnosis, if a patient has symptoms of a rare disease and tests positive for the disease, the posterior probability of the patient having the disease will be high. This is because the new evidence (positive test results) updates the prior probability (based on the rarity of the disease) to reflect the new information."
   ]
  },
  {
   "cell_type": "markdown",
   "id": "a111ac1e",
   "metadata": {},
   "source": [
    "### 3. What is likelihood probability ? Give an example ?"
   ]
  },
  {
   "cell_type": "markdown",
   "id": "c458f0f7",
   "metadata": {},
   "source": [
    "Ans: Likelihood Function in Machine Learning and Data Science is the joint probability distribution(jpd) of the dataset given as a function of the parameter. Think of it as the probability of obtaining the observed data given the parameter values."
   ]
  },
  {
   "cell_type": "markdown",
   "id": "898b2a64",
   "metadata": {},
   "source": [
    "### 4. What is Naïve Bayes classifier ? Why is it named so ?"
   ]
  },
  {
   "cell_type": "markdown",
   "id": "51ea1aa4",
   "metadata": {},
   "source": [
    "Ans: Naive Bayes is a simple and powerful algorithm for predictive modeling. Naive Bayes is called naive because it assumes that each input variable is independent. This is a strong assumption and unrealistic for real data; however, the technique is very effective on a large range of complex problems."
   ]
  },
  {
   "cell_type": "markdown",
   "id": "7a22162e",
   "metadata": {},
   "source": [
    "### 5. What is optimal Bayes classifier ?"
   ]
  },
  {
   "cell_type": "markdown",
   "id": "665abae5",
   "metadata": {},
   "source": [
    "Ans: The Bayes Optimal Classifier is a probabilistic model that makes the most probable prediction for a new example. Bayes Optimal Classifier is a probabilistic model that finds the most probable prediction using the training data and space of hypotheses to make a prediction for a new data instance."
   ]
  },
  {
   "cell_type": "markdown",
   "id": "889163ad",
   "metadata": {},
   "source": [
    "### 6. Write any two features of Bayesian learning methods ?"
   ]
  },
  {
   "cell_type": "markdown",
   "id": "11104071",
   "metadata": {},
   "source": [
    "Ans: A probability distribution over observed data for each possible hypothesis. New instances can be classified by combining the predictions of multiple hypotheses, weighted by their probabilities."
   ]
  },
  {
   "cell_type": "markdown",
   "id": "6b3b6775",
   "metadata": {},
   "source": [
    "### 7. Define the concept of consistent learners ?"
   ]
  },
  {
   "cell_type": "markdown",
   "id": "745a4091",
   "metadata": {},
   "source": [
    "Ans: A consistent learner is a type of machine learning algorithm that will converge to the true underlying function of a dataset as the amount of training data increases. In other words, as the size of the dataset increases, the predictions of the model will become more accurate and will eventually match the true underlying function. This concept is also known as \"asymptotic consistency\".\n",
    "\n",
    "Examples of consistent learners include the k-nearest neighbors algorithm and linear regression. These algorithms are considered consistent learners because they will converge to the true underlying function of the dataset as the sample size increases.\n",
    "\n",
    "In summary, Consistent learners are machine learning algorithms that converge to the true underlying function of a dataset as the amount of training data increases. They will become more accurate as the sample size increases and their predictions will eventually match the true underlying function."
   ]
  },
  {
   "cell_type": "markdown",
   "id": "44520cf8",
   "metadata": {},
   "source": [
    "### 8. Write any two strengths of Bayes classifier ?"
   ]
  },
  {
   "cell_type": "markdown",
   "id": "c0711a96",
   "metadata": {},
   "source": [
    "Ans: This algorithm works quickly and can save a lot of time. Naive Bayes is suitable for solving multi-class prediction problems. If its assumption of the independence of features holds true, it can perform better than other models and requires much less training data."
   ]
  },
  {
   "cell_type": "markdown",
   "id": "a78684d1",
   "metadata": {},
   "source": [
    "### 9. Write any two weaknesses of Bayes classifier ?"
   ]
  },
  {
   "cell_type": "markdown",
   "id": "a1646cf4",
   "metadata": {},
   "source": [
    "Ans: The greatest weakness of the naïve Bayes classifier is that it relies on an often-faulty assumption of equally important and independent features which results in biased posterior probabilities."
   ]
  },
  {
   "cell_type": "markdown",
   "id": "7e186929",
   "metadata": {},
   "source": [
    "### 10. Explain how Naïve Bayes classifier is used for:\n",
    "1. Text classification\n",
    "2. Spam filtering\n",
    "3. Market sentiment analysis"
   ]
  },
  {
   "cell_type": "markdown",
   "id": "d8447819",
   "metadata": {},
   "source": [
    "Ans: Navie Bayes Classifier is used for:\n",
    "- Text classification:\n",
    "The Naive Bayes classifier is a simple classifier that classifies based on probabilities of events. It is the applied  commonly to text classification. With the training set, we can train a Naive Bayes classifier which we can use to automaticall categorize a new sentence.\n",
    "- Spam filtering:       \n",
    "Naive Bayes classifiers work by correlating the use of tokens (typically words, or sometimes other things), with spam and non-spam e-mails and then using Bayes' theorem to calculate a probability that an email is or is not spam.  It is one of the oldest ways of doing spam filtering, with roots in the 1990s.\n",
    "- Market sentiment analysis: \n",
    "Market Sentiment analysis is a field dedicated to extracting subjective emotions and feelings from text. One common use of sentiment analysis is to figure out if a text expresses negative or positive feelings. Naive Bayes is a popular algorithm for classifying text."
   ]
  }
 ],
 "metadata": {
  "kernelspec": {
   "display_name": "Python 3 (ipykernel)",
   "language": "python",
   "name": "python3"
  },
  "language_info": {
   "codemirror_mode": {
    "name": "ipython",
    "version": 3
   },
   "file_extension": ".py",
   "mimetype": "text/x-python",
   "name": "python",
   "nbconvert_exporter": "python",
   "pygments_lexer": "ipython3",
   "version": "3.9.12"
  }
 },
 "nbformat": 4,
 "nbformat_minor": 5
}
