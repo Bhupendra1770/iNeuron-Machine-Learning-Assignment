{
 "cells": [
  {
   "cell_type": "markdown",
   "id": "4d3f1239",
   "metadata": {},
   "source": [
    "### 1.Explain the term machine learning, and how does it work? Explain two machine learning applications in the business world. What are some of the ethical concerns that machine learning applications could raise ?"
   ]
  },
  {
   "cell_type": "markdown",
   "id": "a6ce946d",
   "metadata": {},
   "source": [
    "Ans: Machine Learning is a form of artificial intelligence (AI) that teaches computers to think in a similar way to how humans do: Learning and improving upon past experiences. It works by exploring data and identifying patterns, and involves minimal human intervention.\n",
    "\n",
    "Two Machine Learning applications in Business World :\n",
    "\n",
    "- Customer recommendation engines- like Netflix and Amazon and many more companies using recommendation sysytem to provide similar type of content  which they watch according to their interest.\n",
    "- Market research and customer segmentation. - This type of ML application help companies to customer segmentation that this person purchase or not their product , according to their personal data like salary etc.\n",
    "\n",
    "Also there are some of the ethical concerns that ML applications could raise : AI presents three major areas of ethical concern for society: Privacy and surveillance, bias and discrimination, and perhaps the deepest, most difficult philosophical question of the era, the role of human judgment."
   ]
  },
  {
   "cell_type": "markdown",
   "id": "a5fcce10",
   "metadata": {},
   "source": [
    "### 2. Describe the process of human learning ?\n",
    "1. Under the supervision of experts\n",
    "2. With the assistance of experts in an indirect manner\n",
    "3. Self-education"
   ]
  },
  {
   "cell_type": "markdown",
   "id": "2affb1c3",
   "metadata": {},
   "source": [
    "Ans: \n",
    "- Under the supervision of experts- Human-guided machine learning is a process whereby subject matter experts accelerate the learning process by teaching the technology in real-time. For example, if the machine learning model comes across a piece of data it is uncertain about, a human can be asked to weigh in and give feedback. The model then learns from this input, and uses it to make a more accurate prediction the next time. Human-guided machine learning works from the bottom up by first using algorithms to conduct the heavy lifting of identifying relationships within the data, and engaging humans when necessary for training or validation Concept Learning.\n",
    "\n",
    "- With the assistance of experts in an indirect manner- Well The process of an algorithm learning from the training dataset can be thought of as a teacher supervising the learning process. We know the correct answers, the algorithm iteratively makes predictions on the training data and is corrected by the teacher. Learning stops when the algorithm achieves an acceptable level of performance Operant Conditioning.\n",
    "\n",
    "- Self education- Ability to recognize patterns, learn from data, and become more intelligent over time (can be AI or programmatically based).Machine Learning: AI systems with ability to automatically learn and improve from experience without being explicitly programmed via training Hebbian Learning."
   ]
  },
  {
   "cell_type": "markdown",
   "id": "5a77e233",
   "metadata": {},
   "source": [
    "### 3. Provide a few examples of various types of machine learning ?\n",
    "\n",
    "Ans: Examples of Various types of Machine Learning techniques are:\n",
    "\n",
    "One practical example of supervised learning problems is predicting house prices. First, we need data about the houses- square footage, number of rooms, features, whether a house has a garden or not, and so on. We then need to know the prices of these houses, based on these information.\n",
    "\n",
    "Example of Unsupervised Learning : Fraud detection, Malware detection, Anomaly detection, Clustering Analysis, Identification of human errors during data entry Conducting accurate basket analysis, etc.\n",
    "\n",
    "Example of Reinforcement Learning : Applications in self-driving cars, Industry automation : learning-based robots are used to perform various tasks."
   ]
  },
  {
   "cell_type": "markdown",
   "id": "3208f789",
   "metadata": {},
   "source": [
    "### 4. Examine the various forms of machine learning ?\n",
    "Ans: These are three types of Machine Learning Techniques:\n",
    "\n",
    "- Supervised Learning\n",
    "- Unsupervised Learning\n",
    "- Reinforcement Learning."
   ]
  },
  {
   "cell_type": "markdown",
   "id": "86379a2a",
   "metadata": {},
   "source": [
    "### 5. Can you explain what a well-posed learning problem is? Explain the main characteristics that must be present to identify a learning problem properly ?\n",
    "\n",
    "\n",
    "Ans: Well Posed Learning Problem – A computer program is said to learn from experience E in context to some task T and some performance measure P, if its performance on T, as was measured by P, upgrades with experience E. \n",
    "\n",
    "Any problem can be segregated as well-posed learning problem if it has three traits – \n",
    "\n",
    "- Task\n",
    "- Performance Measure \n",
    "- Experience \n",
    "\n",
    "Example that efficiently define the well-posed learning problem  – \n",
    "\n",
    "1. To better filter emails as spam or not \n",
    "\n",
    "\n",
    "- Task – Classifying emails as spam or not\n",
    "- Performance Measure – The fraction of emails accurately classified as spam or not spam \n",
    "- Experience – Observing you label emails as spam or not spam "
   ]
  },
  {
   "cell_type": "markdown",
   "id": "57fdcdfc",
   "metadata": {},
   "source": [
    "### 6. Is machine learning capable of solving all problems? Give a detailed explanation of your answer ?\n",
    "Ans: Machine Learning probably can run into all problems for solving but lays down with some concerns which are:\n",
    "\n",
    "Ethics: The idea of trusting data and algorithms more than our own judgment has its pros and cons.Obviously, we benefit from these algorithms, otherwise, we wouldn’t be using them in the first place. These algorithms allow us to automate processes by making informed judgments using available data. Sometimes, however, this means replacing someone’s job with an algorithm, which comes with ethical ramifications.\n",
    "\n",
    "Deterministic Problem: Machine learning is stochastic, not deterministic. A neural network does not understand Newton’s second law, or that density cannot be negative there are no physical constraints.\n",
    "\n",
    "Lack of Data: Many machine learning algorithms require large amounts of data before they begin to give useful results."
   ]
  },
  {
   "cell_type": "markdown",
   "id": "f24ceaf9",
   "metadata": {},
   "source": [
    "### 7. What are the various methods and technologies for solving machine learning problems? Any two of them should be defined in detail ?\n",
    "Ans: The Various Technologies Used in Machine Learning Problems are: Scikit Learn, Pytorch, Tensorflow, Keras, Python.\n",
    "\n",
    "- Scikit Learn: Scikit-learn (Sklearn) is the most useful and robust library for machine learning in Python. It provides a selection of efficient tools for machine learning and statistical modeling including classification, Regression, clustering and dimensionality reduction via a consistence interface in Python.\n",
    "- Tensorflow: It is a open source artificial intelligence library, Using data flow graphs to build models. It allows developers to create large-scale neural networks with many layers. TensorFlow is mainly used for: Classification, Perception, Understanding, Discovering, Prediction and Creation.\n",
    "\n",
    "The Various Methods used in Machine Learning Problems are: Regression, Classification, Clustering, Dimensionality Reductio, Ensemble Methods, Neural Network, Deep Learning, Transfer Learning, Reinforcement Learning, Natural Language Processing, Word Embeddings.\n",
    "\n",
    "Regression methods fall within the category of supervised ML. They help to predict or explain a particular numerical value based on a set of prior data, for example predicting the price of a property based on previous pricing data for similar properties.\n",
    "\n",
    "Another class of supervised ML, classification methods predict or explain a class value. For example, they can help predict whether or not an online customer will buy a product. The output can be yes or no, buyer or not buyer. But classification methods aren’t limited to two classes. It can help us to predict multiclass classification."
   ]
  },
  {
   "cell_type": "markdown",
   "id": "17c3ddd1",
   "metadata": {},
   "source": [
    "### 8. Can you explain the various forms of supervised learning? Explain each one with an example application ?\n",
    "\n",
    "Ans The various forms of supervised learning are explained in detail below:\n",
    "\n",
    "- Regression: In regression, a single output value is produced using training data.For example, regression can help predict the price of a house based on its locality, size, etc.\n",
    "- Classification: It involves grouping the data into classes.eg. If you are thinking of extending credit to a person, you can use classification to determine whether or not a person would be a loan defaulter.\n",
    "- Naive Bayesian Model: The Bayesian model of classification is used for large finite datasets. It is a method of assigning class labels using a direct acyclic graph.\n",
    "- Decision Trees: A decision tree is a flowchart-like model that contains conditional control statements, comprising decisions and their probable consequences. The output relates to the labelling of unforeseen data."
   ]
  },
  {
   "cell_type": "markdown",
   "id": "e6738fa2",
   "metadata": {},
   "source": [
    "### 9. What is the difference between supervised and unsupervised learning? With a sample application in each region, explain the differences ?\n",
    "\n",
    "Ans: Supervised earning algorithms are trained using labeled data. Unsupervised learning algorithms are trained using unlabeled data.In unsupervised learning, only input data is provided to the model.\n",
    "Examples:\n",
    "Supervised Learning : Classification and Regression.\n",
    "Unsuperised Learning : Clustering."
   ]
  },
  {
   "cell_type": "markdown",
   "id": "c6010c7e",
   "metadata": {},
   "source": [
    "### 10. Describe the machine learning process in depth ?\n",
    "Make brief notes on any two of the following:\n",
    "- MATLAB is one of the most widely used programming languages.\n",
    "- Deep learning applications in healthcare\n",
    "- Study of the market basket\n",
    "- Linear regression (simple)"
   ]
  },
  {
   "cell_type": "markdown",
   "id": "8e884e14",
   "metadata": {},
   "source": [
    "\n",
    "Ans: \n",
    "- MATLAB is a programming platform designed specifically for engineers and scientists to analyze and design systems and products that would transform our world. The MATLAB language is a matrix-based language allowing the most natural expression of computational mathematics.\n",
    "\n",
    "- Deep learning applications in healthcare: Deep learning provides the healthcare industry with the ability to analyze data at exceptional speeds without compromising on accuracy. It’s not machine learning, nor is it AI, it’s an elegant blend of both that uses a layered algorithmic architecture to sift through data at an astonishing rate. The benefits of deep learning in healthcare are plentiful – fast, efficient, accurate – but they don’t stop there. Even more benefits lie within the neural networks formed by multiple layers of AI and ML and their ability to learn. Yes, the secret to deep learning’s success is in the name – learning.\n",
    "\n",
    "- Market basket analysis is a data mining technique used by retailers to increase sales by better understanding customer purchasing patterns. It involves analyzing large data sets, such as purchase history, to reveal product groupings, as well as products that are likely to be purchased together.\n",
    "\n",
    "- Linear regression (simple): Linear Regression models describe the relationship between variables by fitting a line to the observed data. Linear regression models use a straight line, while logistic and nonlinear regression models use a curved line. Regression allows you to estimate how a dependent variable changes as the independent variable(s) change"
   ]
  },
  {
   "cell_type": "markdown",
   "id": "99261940",
   "metadata": {},
   "source": [
    "### 11. Make a comparison between:-\n",
    "- Generalization and abstraction\n",
    "- Learning that is guided and unsupervised\n",
    "- Regression and classification"
   ]
  },
  {
   "cell_type": "markdown",
   "id": "07d3d473",
   "metadata": {},
   "source": [
    "Ans: The comaparison between are:\n",
    "\n",
    "- Generalization and abstraction: Abstraction is the process of removing details of objects. And Generalization, then, is the formulation of general concepts from specific instances by abstracting common properties. A concrete object can be looked at as a “subset” of a more generalized object.\n",
    "\n",
    "- Learning that is guided and Unsupervised: Supervised learning is the method that trains machines to use data that is well classified and labeled. Whereas Unsupervised learning, on the other hand, is the method that trains machines to use data that is neither classified nor labeled.\n",
    "\n",
    "- Regression and classification:\n",
    "\n",
    " Classification Models – Classification models are used for problems where the output variable can be categorized, such as Yes or No, or Pass or Fail. Classification Models are used to predict the category of the data. Real-life examples include spam detection, sentiment analysis, scorecard prediction of exams, etc.\n",
    "\n",
    " Regression Models – Regression models are used for problems where the output variable is a real value such as a unique number,  salary, weight or pressure, for example. It is most often used to predict numerical values based on previous data observations. Some of the more familiar regression algorithms include linear regression, logistic regression, polynomial regression, and ridge regression."
   ]
  }
 ],
 "metadata": {
  "kernelspec": {
   "display_name": "Python 3 (ipykernel)",
   "language": "python",
   "name": "python3"
  },
  "language_info": {
   "codemirror_mode": {
    "name": "ipython",
    "version": 3
   },
   "file_extension": ".py",
   "mimetype": "text/x-python",
   "name": "python",
   "nbconvert_exporter": "python",
   "pygments_lexer": "ipython3",
   "version": "3.9.12"
  }
 },
 "nbformat": 4,
 "nbformat_minor": 5
}
