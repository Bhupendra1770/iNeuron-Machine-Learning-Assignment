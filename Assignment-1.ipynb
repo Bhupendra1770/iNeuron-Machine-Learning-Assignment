{
 "cells": [
  {
   "cell_type": "markdown",
   "id": "6703f5dd",
   "metadata": {},
   "source": [
    "### 1. What does one mean by the term \"machine learning\" ?\n",
    "Ans: Machine learning is a subfield of artificial intelligence, which is broadly defined as the capability of a machine to imitate intelligent human behavior. Artificial intelligence systems are used to perform complex tasks in a way that is similar to how humans solve problems.In ML we try to get important information from data and we use that information for prediction."
   ]
  },
  {
   "cell_type": "markdown",
   "id": "419d54fe",
   "metadata": {},
   "source": [
    "### 2.Can you think of 4 distinct types of issues where it shines ?\n",
    "Ans: The following are some of the issues where Machine Learning can be used:\n",
    "\n",
    "1. Product recommendations: Machine learning is widely used by various e-commerce and entertainment companies such as Amazon, Netflix, etc., for product recommendation to the user.\n",
    "\n",
    "2. Medical diagnosis: Machine learning can help with the diagnosis of diseases. Many physicians use chatbots with speech recognition capabilities to discern patterns in symptoms.\n",
    "\n",
    "- Real-world examples for medical diagnosis:\n",
    "\n",
    "- Assisting in formulating a diagnosis or recommends a treatment option.\n",
    "- Oncology and pathology use machine learning to recognise cancerous tissue .\n",
    "- Analyse bodily fluids.\n",
    "\n",
    "\n",
    "3. Traffic prediction: It predicts the traffic conditions such as whether traffic is cleared, slow-moving, or heavily congested with the help of two ways: Real Time location of the vehicle form Google Map app and sensors Average time has taken on past days at the same time.\n",
    "\n",
    "\n",
    "4. Image Recognition: Image recognition is one of the most common applications of machine learning. It is used to identify objects, persons, places, digital images, etc. The popular use case of image recognition and face detection is Automatic friend tagging suggestion."
   ]
  },
  {
   "cell_type": "markdown",
   "id": "7a2941b1",
   "metadata": {},
   "source": [
    "### 3.What is a labeled training set, and how does it work ?\n",
    "Ans: The training set is used to train the algorithm, and then you use the trained model on the test set to predict the response variable values that are already known. The final step is to compare the predicted responses against the actual (observed) responses to see how close they are."
   ]
  },
  {
   "cell_type": "markdown",
   "id": "0c327751",
   "metadata": {},
   "source": [
    "### 4.What are the two most important tasks that are supervised ?\n",
    "Ans: The two most common supervised learning tasks are \"Regression\" and \"Classification\"."
   ]
  },
  {
   "cell_type": "markdown",
   "id": "7a191371",
   "metadata": {},
   "source": [
    "### 5.Can you think of four examples of unsupervised tasks ?\n",
    "Ans: Four common unsupervised tasks inclused clustering, visualization, dimensionality reduction , and association rule learning."
   ]
  },
  {
   "cell_type": "markdown",
   "id": "7873e5da",
   "metadata": {},
   "source": [
    "### 6.State the machine learning model that would be best to make a robot walk through various unfamiliar terrains ?\n",
    "Ans: The best Machine Learning algorithm to allow a Robot to walk in unfamiliar terrains is \"Reinforced Learning\", where the robot can learn from response of the terrain to optimize itself."
   ]
  },
  {
   "cell_type": "markdown",
   "id": "f2ac6cd2",
   "metadata": {},
   "source": [
    "### 7.Which algorithm will you use to divide your customers into different groups ?\n",
    "Ans: The Best Algorithm to Segment Customers into different groups is either \"Supervised Learning\" (if the groups have known labels) or \"Unsupervised Learning\" (if there are no group labels)."
   ]
  },
  {
   "cell_type": "markdown",
   "id": "7845b2d5",
   "metadata": {},
   "source": [
    "### 8.Will you consider the problem of spam detection to be a supervised or unsupervised learning problem ?\n",
    "Ans: Spam detection is a Supervised Machine Learning problem because the labels are known (spam or no spam)."
   ]
  },
  {
   "cell_type": "markdown",
   "id": "17a85053",
   "metadata": {},
   "source": [
    "### 9.What is the concept of an online learning system ?\n",
    "Ans: Online learning system is a learning system in which the machine learns continously, as data is given in small streams continuously."
   ]
  },
  {
   "cell_type": "markdown",
   "id": "7a0df632",
   "metadata": {},
   "source": [
    "### 10.What is out-of-core learning, and how does it differ from core learning ?\n",
    "Ans: It is a way to train your model on data that cannot fit your core memory. Out-of-core learning refers to the machine learning algorithms working with data that cannot fit into a single machine's memory but can easily fit into some data storage, like web repository. It uses online learning system to feed data in small bits."
   ]
  },
  {
   "cell_type": "markdown",
   "id": "7e61ebf0",
   "metadata": {},
   "source": [
    "### 11.What kind of learning algorithm makes predictions using a similarity measure ?\n",
    "Ans: Learning algorithm that relies on a similarity measure to make predictions is \"Instance Based Algorithm\"."
   ]
  },
  {
   "cell_type": "markdown",
   "id": "1601e6c7",
   "metadata": {},
   "source": [
    "### 12.What's the difference between a model parameter and a hyperparameter in a learning algorithm ?\n",
    "Ans: Model Parameters: These are the parameters in the model that must be determined using the training data set. These are the fitted parameters. Hyperparameters: These are adjustable parameters that must be tuned in order to obtain a model with optimal performance."
   ]
  },
  {
   "cell_type": "markdown",
   "id": "f524e21a",
   "metadata": {},
   "source": [
    "### 13.What are the criteria that model-based learning algorithms look for? What is the most popular method they use to achieve success? What method do they use to make predictions ?\n",
    "Ans: Model based learning algorithm search for the optimal value of parameters in a model that will give the best results for the new instances. We often use a cost function or similar to determine what the parameter value has to be in order to minimize the function. The model makes prediction by using the value of the new instance and the parameters in its function."
   ]
  },
  {
   "cell_type": "markdown",
   "id": "714921cd",
   "metadata": {},
   "source": [
    "### 14.Can you name four of the most important Machine Learning challenges ?\n",
    "Ans: Four main challenges in Machine Learning include the following:\n",
    "1. Overfitting the Data.\n",
    "2. Underfitting the data .\n",
    "3. Lacking in Data.\n",
    "4. Non Representative Data."
   ]
  },
  {
   "cell_type": "markdown",
   "id": "7715ca05",
   "metadata": {},
   "source": [
    "### 15.What happens if the model performs well on the training data but fails to generalize the results to new situations? Can you think of three different options ?\n",
    "Ans: If the model performs poorly to new instances, then it has overfitted on the training data. To solve this, we can try-\n",
    "- Get more data\n",
    "- Eliminate outliers or noise from the existing data set."
   ]
  },
  {
   "cell_type": "markdown",
   "id": "e545d8b8",
   "metadata": {},
   "source": [
    "### 16.What exactly is a test set, and why would you need one ?\n",
    "Ans: Test set is a set to test your model (fit using training data) to see how it performs.Test set is necessary to determine how good (or bad) a model performs."
   ]
  },
  {
   "cell_type": "markdown",
   "id": "7e160173",
   "metadata": {},
   "source": [
    "### 17.What is a validation set's purpose ?\n",
    "Ans: The validation set is used to evaluate the models in order to perform model selection."
   ]
  },
  {
   "cell_type": "markdown",
   "id": "760d593a",
   "metadata": {},
   "source": [
    "### 18.What precisely is the train-dev kit, when will you need it, how do you put it to use ?\n",
    "Ans: Cross-validation is a tool to compare models without needing a separate validation set. It is preferred over validation set because we can save from breaking of part of the training set to create a validation set, as having more data is valuable regardless."
   ]
  },
  {
   "cell_type": "markdown",
   "id": "2078fdc1",
   "metadata": {},
   "source": [
    "### 19.What could go wrong if you use the test set to tune hyperparameters ?\n",
    "Ans: If you tune hyperparameters using the test sets, then it may not perform well on the out-of-sample data because the model is tuned just for that specific set."
   ]
  }
 ],
 "metadata": {
  "kernelspec": {
   "display_name": "Python 3 (ipykernel)",
   "language": "python",
   "name": "python3"
  },
  "language_info": {
   "codemirror_mode": {
    "name": "ipython",
    "version": 3
   },
   "file_extension": ".py",
   "mimetype": "text/x-python",
   "name": "python",
   "nbconvert_exporter": "python",
   "pygments_lexer": "ipython3",
   "version": "3.9.12"
  }
 },
 "nbformat": 4,
 "nbformat_minor": 5
}
