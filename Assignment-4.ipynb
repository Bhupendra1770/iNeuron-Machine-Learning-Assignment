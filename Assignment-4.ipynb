{
 "cells": [
  {
   "cell_type": "markdown",
   "id": "934e181c",
   "metadata": {},
   "source": [
    "### 1. What are the key tasks involved in getting ready to work with machine learning modeling ?\n",
    "\n",
    "\n",
    "Ans: The Key Tasks involved in getting ready to work with Machine learning Modelling are:\n",
    "\n",
    "- Data collection: Defining the problem and assembling a dataset.\n",
    "- Data preparation: Preparing your data.\n",
    "- Choosing a Model\n",
    "- Training the Model \n",
    "- Evaluating the Model\n",
    "- Parameter tuning\n",
    "- Prediction."
   ]
  },
  {
   "cell_type": "markdown",
   "id": "c420a87a",
   "metadata": {},
   "source": [
    "### 2. What are the different forms of data used in machine learning ? Give a specific example for each of them ?"
   ]
  },
  {
   "cell_type": "markdown",
   "id": "4c5d5f76",
   "metadata": {},
   "source": [
    "Ans: Most data can be categorized into 4 basic types from a Machine Learning perspective: Numerical Data, Categorical Data, Time-Series Data, and Text data.\n",
    "\n",
    "\n",
    "Numerical Data: Numerical data is any data where data points are exact numbers. Statisticians also might call numerical data, quantitative data. This data has meaning as a measurement such as house prices or as a count, such as a number of residential properties in Los Angeles or how many houses sold in the past year.\n",
    "Numerical data can be characterized by continuous or discrete data. Continuous data can assume any value within a range whereas discrete data has distinct values.\n",
    "\n",
    "Categorical Data: Categorical data represents characteristics, such as a hockey player’s position, team, hometown. Categorical data can take numerical values. For example, maybe we would use 1 for the colour red and 2 for blue. But these numbers don’t have a mathematical meaning.\n",
    "\n",
    "Time Series Data: Time series data is a sequence of numbers collected at regular intervals over some period of time. It is very important, especially in particular fields like finance. Time series data has a temporal value attached to it, so this would be something like a date or a timestamp that you can look for trends in time.\n",
    "\n",
    "Text: Text data is basically just words. A lot of the time the first thing that you do with text is you turn it into numbers using some interesting functions like the bag of words formulation."
   ]
  },
  {
   "cell_type": "markdown",
   "id": "76b8db70",
   "metadata": {},
   "source": [
    "### 3. Distinguish between :\n",
    "- Numeric vs. categorical attributes\n",
    "- Feature selection vs. dimensionality reduction"
   ]
  },
  {
   "cell_type": "markdown",
   "id": "860b6cda",
   "metadata": {},
   "source": [
    "Ans: The following are the differences between:\n",
    "\n",
    "1. Numeric vs. categorical attributes:\n",
    "\n",
    "- Categorical data are values obtained for a qualitative variable. categorical data numbers do not carry a sense of magnitude.\n",
    "- Numerical data always belong to either ordinal, ratio, or interval type, whereas categorical data belong to nominal type. - - Methods used to analyse quantitative data are different from the methods used for categorical data, even if the principles are the same at least the application has significant differences.\n",
    "- Numerical data are analysed using statistical methods in descriptive statistics, regression, time series and many more.For categorical data usually descriptive methods and graphical methods are employed. Some non-parametric tests are also used.\n",
    "\n",
    "2. Feature selection vs. dimensionality reduction:\n",
    "\n",
    "- Feature selection you just select a subset of the original feature set, without any manipulation of the data on the other hand.\n",
    "\n",
    "- Dimensionality reduction is typically choosing a new representation within which you can describe most but not all of the variance within your data, we can done it using PCA etc."
   ]
  },
  {
   "cell_type": "markdown",
   "id": "68eb975b",
   "metadata": {},
   "source": [
    "### 4. Make quick notes on any two of the following ?\n",
    "- The histogram\n",
    "- Use a scatter plot\n",
    "- PCA (Personal Computer Aid)"
   ]
  },
  {
   "cell_type": "markdown",
   "id": "d14de52b",
   "metadata": {},
   "source": [
    "Ans:\n",
    "- Use a scatter plot: A scatter plot (aka scatter chart, scatter graph) uses dots to represent values for two different numeric variables. The position of each dot on the horizontal and vertical axis indicates values for an individual data point. Scatter plots are used to observe relationships between variables.\n",
    "\n",
    "- PCA : Principal Component Analysis or PCA is a widely used technique for dimensionality reduction of the large data set. Reducing the number of components or features costs some accuracy and on the other hand, it makes the large data set simpler, easy to explore and visualize."
   ]
  },
  {
   "cell_type": "markdown",
   "id": "d06e359f",
   "metadata": {},
   "source": [
    "### 5. Why is it necessary to investigate data? Is there a discrepancy in how qualitative and quantitative data are explored ?"
   ]
  },
  {
   "cell_type": "markdown",
   "id": "f2dbd7aa",
   "metadata": {},
   "source": [
    "Ans: If your data set is messy, building models will not help you to solve your problem. What will happen is Garbage In, Garbage Out. In order to build a powerful machine learning algorithm. We need to explore and understand our data set before we define a predictive task and solve it."
   ]
  },
  {
   "cell_type": "markdown",
   "id": "fa8136a2",
   "metadata": {},
   "source": [
    "### 6. What are the various histogram shapes? What exactly are ‘bins' ?"
   ]
  },
  {
   "cell_type": "markdown",
   "id": "b8275b01",
   "metadata": {},
   "source": [
    "Ans: The different types of a histogram are:\n",
    "\n",
    "- Uniform Histogram\n",
    "- Bimodal Histogram\n",
    "- Probability Histogram.\n",
    "- Symmetric Histogram\n",
    "\n",
    "The bin in a histogram is the choice of unit and spacing on the X-axis. All the data in a probability distribution represented visually by a histogram is filled into the corresponding bins. The height of each bin is a measurement of the frequency with which data appears inside the range of that bin in the distribution."
   ]
  },
  {
   "cell_type": "markdown",
   "id": "243aaf5d",
   "metadata": {},
   "source": [
    "### 7. How do we deal with data outliers ?"
   ]
  },
  {
   "cell_type": "markdown",
   "id": "0ae21a5b",
   "metadata": {},
   "source": [
    "Ans: We can use Z-Score or any of below methods to deal with data outliers:\n",
    "\n",
    "Univariate Method: This method looks for data points with extreme values on one variable.\n",
    "\n",
    "Multivariate Method: Here, we look for unusual combinations of all the variables.\n",
    "\n",
    "Minkowski Error: This method reduces the contribution of potential outliers in the training process.\n",
    "\n",
    "Z-Score: This can be done with just one line code as we have already calculated the Z-score.\n",
    "\n",
    "\n",
    "IQR Score: Calculate IQR score to filter out the outliers by keeping only valid values.\n",
    "\n",
    "\n",
    "Quantile function: Use quantile() to remove amount of data."
   ]
  },
  {
   "cell_type": "markdown",
   "id": "aa9c2675",
   "metadata": {},
   "source": [
    "### 8. What are the various central inclination measures? Why does mean vary too much from median in certain data sets ?\n"
   ]
  },
  {
   "cell_type": "markdown",
   "id": "1605250b",
   "metadata": {},
   "source": [
    "Ans: Mean, Median and Mode are Central Inclination Measures. Mean varies more than Median due to presence of outliers, as mean is averaging all points while median in like finding a middle number."
   ]
  },
  {
   "cell_type": "markdown",
   "id": "454dbfa3",
   "metadata": {},
   "source": [
    "### 9. Describe how a scatter plot can be used to investigate bivariate relationships. Is it possible to find outliers using a scatter plot ?\n"
   ]
  },
  {
   "cell_type": "markdown",
   "id": "a04ba57e",
   "metadata": {},
   "source": [
    "Ans: A Scatter Plot uses dots to represent values for two different numeric variables. The position of each dot on the horizontal and vertical axis indicates values for an individual data point. So this visualization gives us the idea of bivariate relationship.\n",
    "\n",
    "Scatter plot can also help finding outliers as outliers can be visualized at farther distance than regular data."
   ]
  },
  {
   "cell_type": "markdown",
   "id": "52716bf6",
   "metadata": {},
   "source": [
    "### 10. Describe how cross-tabs can be used to figure out how two variables are related ?"
   ]
  },
  {
   "cell_type": "markdown",
   "id": "dc635865",
   "metadata": {},
   "source": [
    "Ans: To describe the relationship between two categorical variables, we use a special type of table called a cross-tabulation (or \"crosstab\" for short). In a cross-tabulation, the categories of one variable determine the rows of the table, and the categories of the other variable determine the columns. The cells of the table contain the number of times that a particular combination of categories occurred. The \"edges\" (or \"margins\") of the table typically contain the total number of observations for that category."
   ]
  }
 ],
 "metadata": {
  "kernelspec": {
   "display_name": "Python 3 (ipykernel)",
   "language": "python",
   "name": "python3"
  },
  "language_info": {
   "codemirror_mode": {
    "name": "ipython",
    "version": 3
   },
   "file_extension": ".py",
   "mimetype": "text/x-python",
   "name": "python",
   "nbconvert_exporter": "python",
   "pygments_lexer": "ipython3",
   "version": "3.9.12"
  }
 },
 "nbformat": 4,
 "nbformat_minor": 5
}
