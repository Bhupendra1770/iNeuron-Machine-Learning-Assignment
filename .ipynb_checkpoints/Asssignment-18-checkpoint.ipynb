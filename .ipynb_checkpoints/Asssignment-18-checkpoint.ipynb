{
 "cells": [
  {
   "cell_type": "markdown",
   "id": "135120c6",
   "metadata": {},
   "source": [
    "### 1. What is the difference between supervised and unsupervised learning? Give some examples to illustrate your point ?"
   ]
  },
  {
   "cell_type": "markdown",
   "id": "af0b678a",
   "metadata": {},
   "source": [
    "Ans: The main distinction between the two approaches is the use of labeled datasets. To put it simply, supervised learning uses labeled input and output data, while an unsupervised learning algorithm does not. Unsupervised learning models,  in contrast, work on their own to discover the inherent structure of unlabeled data.\n",
    "\n",
    "In Supervised learning, you train the machine using data which is well \"labeled\". Unsupervised learning is a machine learning technique, where you do not need to supervise the model."
   ]
  },
  {
   "cell_type": "markdown",
   "id": "b15857d4",
   "metadata": {},
   "source": [
    "### 2. Mention a few unsupervised learning applications ?"
   ]
  },
  {
   "cell_type": "markdown",
   "id": "787d7be2",
   "metadata": {},
   "source": [
    "Ans: The main applications of unsupervised learning include clustering, visualization, dimensionality reduction, finding association rules, and anomaly detection."
   ]
  },
  {
   "cell_type": "markdown",
   "id": "a1b1ac1e",
   "metadata": {},
   "source": [
    "### 3. What are the three main types of clustering methods? Briefly describe the characteristics of each ?"
   ]
  },
  {
   "cell_type": "markdown",
   "id": "a2abf122",
   "metadata": {},
   "source": [
    "Ans: \n",
    "- Centroid-based clustering: This type of clustering uses the mean of the data points in a cluster as the representative point, or centroid. The most well-known algorithm in this category is k-means. This method is efficient for large data sets and can handle numeric data well, but it can be sensitive to the initial placement of the centroids and can get stuck in local minima.\n",
    "\n",
    "- Hierarchical clustering: This type of clustering builds a hierarchy of clusters, either by merging smaller clusters into larger ones (agglomerative) or by splitting larger clusters into smaller ones (divisive). The resulting hierarchy can be represented as a tree or dendrogram. Hierarchical clustering can handle non-numeric data and does not require the number of clusters to be specified in advance, but it can be computationally expensive for large data sets.\n",
    "\n",
    "- Density-based clustering: This type of clustering groups together data points that are closely packed together, based on a density threshold. DBSCAN is a well-known density-based clustering algorithm. This method can discover clusters of arbitrary shape and can handle noisy data well, but it can be sensitive to the choice of density threshold and may not work well for data sets with varying densities."
   ]
  },
  {
   "cell_type": "markdown",
   "id": "887b2a64",
   "metadata": {},
   "source": [
    "### 4. Explain how the k-means algorithm determines the consistency of clustering ?"
   ]
  },
  {
   "cell_type": "markdown",
   "id": "14fbf145",
   "metadata": {},
   "source": [
    "Ans: Calculate the Within-Cluster-Sum of Squared Errors (WSS) for different values of k, and choose the k for which WSS  becomes first starts to diminish. In the plot of WSS-versus-k, this is visible as an elbow. Within-Cluster-Sum of  Squared Errors sounds a bit complex."
   ]
  },
  {
   "cell_type": "markdown",
   "id": "6682162e",
   "metadata": {},
   "source": [
    "### 5. With a simple illustration, explain the key difference between the k-means and k-medoids algorithms ?"
   ]
  },
  {
   "cell_type": "markdown",
   "id": "59795145",
   "metadata": {},
   "source": [
    "Ans: K-means attempts to minimize the total squared error, while k-medoids minimizes the sum of dissimilarities between points labeled to be in a cluster and a point designated as the center of that cluster. In contrast to the k -means algorithm, k -medoids chooses datapoints as centers ( medoids or exemplars)."
   ]
  },
  {
   "cell_type": "markdown",
   "id": "b09163dd",
   "metadata": {},
   "source": [
    "### 6. What is a dendrogram, and how does it work? Explain how to do it ?"
   ]
  },
  {
   "cell_type": "markdown",
   "id": "a8788301",
   "metadata": {},
   "source": [
    "Ans: A dendrogram is a diagram that shows the attribute distances between each pair of sequentially merged classes After each merging, the distances between all pairs of classes are updated. The distances at which the signatures of classes are merged are used to construct a dendrogram."
   ]
  },
  {
   "cell_type": "markdown",
   "id": "111b649e",
   "metadata": {},
   "source": [
    "### 7. What exactly is SSE? What role does it play in the k-means algorithm ?"
   ]
  },
  {
   "cell_type": "markdown",
   "id": "fa5e6a54",
   "metadata": {},
   "source": [
    "Ans: I am going to refer to it as SSE, which stands for Sum of Squared Errors. The regression line is the line made using the function we defined above. To get the SSE we calculate the distance for each of the data points from the regression line then square the it, then we add to the sum.\n",
    "\n",
    "The SSE is defined as the sum of the squared Euclidean distances of each point to its closest centroid. Since this is a measure of error, the objective of k-means is to try to minimize this value. The purpose of this figure is to show  that the initialization of the centroids is an important step."
   ]
  },
  {
   "cell_type": "markdown",
   "id": "97b20cf8",
   "metadata": {},
   "source": [
    "### 8. With a step-by-step algorithm, explain the k-means procedure ?"
   ]
  },
  {
   "cell_type": "markdown",
   "id": "f29aca14",
   "metadata": {},
   "source": [
    "Ans: k-means is one of the simplest unsupervised learning algorithms that solve the well known clustering problem. The procedure follows a simple and easy way to classify a given data set through a certain number of clusters (assume k clusters) fixed apriori. The main idea is to define k centers, one for each cluster.\n",
    "\n",
    "- Step 1: Choose the number of clusters k. \n",
    "- Step 2: Select k random points from the data as centroids.\n",
    "- Step 3: Assign all the points to the closest cluster centroid. \n",
    "- Step 4: Recompute the centroids of newly formed clusters.\n",
    "- Step 5: Repeat steps 3 and 4."
   ]
  },
  {
   "cell_type": "markdown",
   "id": "717681d1",
   "metadata": {},
   "source": [
    "### 9. In the sense of hierarchical clustering, define the terms single link and complete link ?"
   ]
  },
  {
   "cell_type": "markdown",
   "id": "5567ba41",
   "metadata": {},
   "source": [
    "Ans: In single-link (or single linkage) hierarchical clustering, we merge in each step the two clusters whose two closest members have the smallest distance (or: the two clusters with the smallest minimum pairwise distance). Complete-link clustering can also be described using the concept of clique."
   ]
  },
  {
   "cell_type": "markdown",
   "id": "b7186929",
   "metadata": {},
   "source": [
    "### 10. How does the apriori concept aid in the reduction of measurement overhead in a business basket analysis? Give an example to demonstrate your point ?"
   ]
  },
  {
   "cell_type": "markdown",
   "id": "a146ef8d",
   "metadata": {},
   "source": [
    "Ans: The Apriori algorithm is a popular technique used in association rule mining to identify frequent item sets in a dataset. It uses a \"bottom-up\" approach, where it starts with individual items in the dataset and then combines them to form larger item sets. The key concept behind the Apriori algorithm is the \"Apriori property\", which states that if an item set is frequent, then all of its subsets must also be frequent.\n",
    "\n",
    "In the context of business basket analysis, the Apriori algorithm can aid in the reduction of measurement overhead by identifying the most frequent item sets in the dataset, which are likely to be the most important for the analysis. By only considering these frequent item sets, the algorithm can avoid the need to consider all possible combinations of items, which would be a much more computationally expensive task.\n",
    "\n",
    "For example, if a dataset contains information about purchases made at a grocery store, the Apriori algorithm could be used to identify which items are frequently purchased together (e.g., bread and butter, or cereal and milk). By only considering these frequent item sets, the algorithm can avoid the need to consider all possible combinations of items, which would be a much more computationally expensive task."
   ]
  }
 ],
 "metadata": {
  "kernelspec": {
   "display_name": "Python 3 (ipykernel)",
   "language": "python",
   "name": "python3"
  },
  "language_info": {
   "codemirror_mode": {
    "name": "ipython",
    "version": 3
   },
   "file_extension": ".py",
   "mimetype": "text/x-python",
   "name": "python",
   "nbconvert_exporter": "python",
   "pygments_lexer": "ipython3",
   "version": "3.9.12"
  }
 },
 "nbformat": 4,
 "nbformat_minor": 5
}
