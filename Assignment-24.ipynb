{
 "cells": [
  {
   "cell_type": "markdown",
   "id": "513120c5",
   "metadata": {},
   "source": [
    "### 1. What is your definition of clustering? What are a few clustering algorithms you might think of ?"
   ]
  },
  {
   "cell_type": "markdown",
   "id": "66166c7b",
   "metadata": {},
   "source": [
    "Ans: Clustering is the task of dividing the population or data points into a number of groups such that data points in the same groups are more similar to other data points in the same group and dissimilar to the data points in other groups."
   ]
  },
  {
   "cell_type": "markdown",
   "id": "718857d4",
   "metadata": {},
   "source": [
    "### 2. What are some of the most popular clustering algorithm applications ?"
   ]
  },
  {
   "cell_type": "markdown",
   "id": "102a3144",
   "metadata": {},
   "source": [
    "Ans: K-means clustering is the most commonly used clustering algorithm. It's a centroid-based algorithm and the simplest unsupervised learning algorithm. This algorithm tries to minimize the variance of data points within a cluster. It's also how most people are introduced to unsupervised machine learning."
   ]
  },
  {
   "cell_type": "markdown",
   "id": "c661ac1e",
   "metadata": {},
   "source": [
    "### 3. When using K-Means, describe two strategies for selecting the appropriate number of clusters ?"
   ]
  },
  {
   "cell_type": "markdown",
   "id": "1171c60a",
   "metadata": {},
   "source": [
    "Ans: \n",
    "- Elbow Method: The elbow method is a graphical technique used to determine the optimal number of clusters for a K-Means clustering analysis. It plots the relationship between the number of clusters and the sum of squared distances between the data points and their cluster centroid (SSE). The optimal number of clusters is chosen at the \"elbow\" point, where the rate of decrease in SSE begins to level off.\n",
    "\n",
    "- Silhouette Score: The silhouette score is a measure of how similar an object is to its own cluster compared to other clusters. It ranges from -1 to 1, where a high value indicates that the object is well-matched to its own cluster. To select the appropriate number of clusters, different numbers of clusters are tried and the average silhouette score is calculated for each. The number of clusters with the highest average silhouette score is considered the optimal number of clusters."
   ]
  },
  {
   "cell_type": "markdown",
   "id": "807b2a64",
   "metadata": {},
   "source": [
    "### 4. What is mark propagation and how does it work? Why would you do it, and how would you do it ?"
   ]
  },
  {
   "cell_type": "markdown",
   "id": "161adb11",
   "metadata": {},
   "source": [
    "Ans: Mark propagation is a technique used in image processing and computer vision to propagate labels or \"marks\" from known regions of an image to similar or adjacent regions. The idea behind mark propagation is that, if a pixel or group of pixels has been labeled as a certain object or feature, then similar pixels or groups of pixels nearby are likely to be part of the same object or feature.\n",
    "\n",
    "Mark propagation is typically done using a graph-based approach, where pixels or groups of pixels are represented as nodes in a graph, and edges represent similarity or adjacency between them. A label or mark is then propagated from known nodes to adjacent or similar nodes using various algorithms such as random walk, belief propagation, or graph cut.\n",
    "\n",
    "Mark propagation is useful in image processing and computer vision because it can help to automatically segment images into regions of interest, identify objects or features, or correct errors in manual annotation. It can also be used as a pre-processing step for image classification, object detection, and other computer vision tasks.\n",
    "\n",
    "To perform mark propagation, you would typically start with an image and manually label or mark certain regions or pixels as known regions. Then, you would use an appropriate algorithm to propagate the labels or marks from the known regions to similar or adjacent regions in the image. The choice of algorithm will depend on the specific task and the nature of the image.\n"
   ]
  },
  {
   "cell_type": "markdown",
   "id": "2102162e",
   "metadata": {},
   "source": [
    "### 5. Provide two examples of clustering algorithms that can handle large datasets. And two that look for high-density areas ?"
   ]
  },
  {
   "cell_type": "markdown",
   "id": "11108df6",
   "metadata": {},
   "source": [
    "Ans: The most commonly used algorithm in clustering are  hierarchical, grid based, density based, and model based algorithms. A review of clustering and its different techniques in data mining is done considering the criteria's\n",
    "for big data."
   ]
  },
  {
   "cell_type": "markdown",
   "id": "a9616a41",
   "metadata": {},
   "source": [
    "### 6. Can you think of a scenario in which constructive learning will be advantageous? How can you go about putting it into action ?"
   ]
  },
  {
   "cell_type": "markdown",
   "id": "715fd79a",
   "metadata": {},
   "source": [
    "Ans: In Constructivist learning, the traditional classroom learning procedure is flipped. Instead of a teacher informing a child about a subject and constructing a meaning for them, in constructivist learning, children construct their own \n",
    "meanings. Now, this may not be the best approach for every learning environment, but it can be tremendously helpful at home.\n",
    "The home environment is where children primarily develop a sense of self and is the perfect setting for children to practice taking initiative in their learning via a Constructivist approach."
   ]
  },
  {
   "cell_type": "markdown",
   "id": "6b3b6154",
   "metadata": {},
   "source": [
    "### 7. How do you tell the difference between anomaly and novelty detection?"
   ]
  },
  {
   "cell_type": "markdown",
   "id": "14487209",
   "metadata": {},
   "source": [
    "Ans: In \"novelty detection\", you have a data set that contains only good data, and you're trying to determine whether new observations fit within the existing data set. In \"outlier detection\", the data may contain outliers, which you want to\n",
    "identify."
   ]
  },
  {
   "cell_type": "markdown",
   "id": "54020734",
   "metadata": {},
   "source": [
    "### 8. What is a Gaussian mixture, and how does it work? What are some of the things you can do about it?"
   ]
  },
  {
   "cell_type": "markdown",
   "id": "ba1f85d1",
   "metadata": {},
   "source": [
    "Ans: A Gaussian Mixture is a function that is comprised of several Gaussians, each identified by k ∈ {1,…, K}, where K is  the number of clusters of our dataset. Each Gaussian k in the mixture is comprised of the following parameters: A mean μ that defines its centre. A covariance Σ that defines its width."
   ]
  },
  {
   "cell_type": "markdown",
   "id": "717681d1",
   "metadata": {},
   "source": [
    "### 9. When using a Gaussian mixture model, can you name two techniques for determining the correct number of clusters?"
   ]
  },
  {
   "cell_type": "markdown",
   "id": "a149a3d5",
   "metadata": {},
   "source": [
    "Ans: An approach is to find the clusters using soft clustering methods and then see if they are gaussian. If they are then you can apply a GMM model which represents the whole dataset."
   ]
  }
 ],
 "metadata": {
  "kernelspec": {
   "display_name": "Python 3 (ipykernel)",
   "language": "python",
   "name": "python3"
  },
  "language_info": {
   "codemirror_mode": {
    "name": "ipython",
    "version": 3
   },
   "file_extension": ".py",
   "mimetype": "text/x-python",
   "name": "python",
   "nbconvert_exporter": "python",
   "pygments_lexer": "ipython3",
   "version": "3.9.12"
  }
 },
 "nbformat": 4,
 "nbformat_minor": 5
}
