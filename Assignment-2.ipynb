{
 "cells": [
  {
   "cell_type": "markdown",
   "id": "7e36652a",
   "metadata": {},
   "source": [
    "### 1. What is the concept of human learning? Please give two examples ?"
   ]
  },
  {
   "cell_type": "markdown",
   "id": "a7cb160c",
   "metadata": {},
   "source": [
    "Ans: Human Learning Systems is an alternative approach to public management which embraces the complexity of the real world, and enables us to work effectively in that complexity- \n",
    "examples-\n",
    "- Learning through consequences – Operant Conditioning.\n",
    "- Learning through observation – Modeling/Observational Learning."
   ]
  },
  {
   "cell_type": "markdown",
   "id": "7a91d1fe",
   "metadata": {},
   "source": [
    "### 2. What different forms of human learning are there? Are there any machine learning equivalents ?"
   ]
  },
  {
   "cell_type": "markdown",
   "id": "170b445e",
   "metadata": {},
   "source": [
    "Ans: Three Major Types of Human Learning-\n",
    "- Learning through association - Classical Conditioning.\n",
    "- Learning through consequences – Operant Conditioning.\n",
    "- Learning through observation – Modeling/Observational Learning.\n",
    "\n",
    "machine learning equivalents -\n",
    "- Linear regression, decision trees, random forest and support vector machines are some commonly used techniques that are - actually examples of supervised learning."
   ]
  },
  {
   "cell_type": "markdown",
   "id": "14a177b7",
   "metadata": {},
   "source": [
    "### 3. What is machine learning, and how does it work? What are the key responsibilities of machine learning ?"
   ]
  },
  {
   "cell_type": "markdown",
   "id": "f568fb44",
   "metadata": {},
   "source": [
    "Ans: Machine learning (ML) is a type of artificial intelligence (AI) that allows software applications to become more accurate at predicting outcomes without being explicitly programmed to do so. Machine learning algorithms use historical data as input to predict new output values. \n",
    "- It works by exploring data and identifying patterns, and involves minimal human intervention.  \n",
    "\n",
    "Roles and responsibilities of a machine learning engineer are:\n",
    "- Designing ML systems. \n",
    "- Researching and implementing ML algorithms and tools. Selecting appropriate data sets. \n",
    "- Identifying differences in data distribution that affects model performance. Verifying data quality.\n",
    "- Main goal is to build a good model so that we can get as much as best prediction for out sample data."
   ]
  },
  {
   "cell_type": "markdown",
   "id": "1a762817",
   "metadata": {},
   "source": [
    "### 4. Define the terms \"penalty\" and \"reward\" in the context of reinforcement learning ?"
   ]
  },
  {
   "cell_type": "markdown",
   "id": "a816b87e",
   "metadata": {},
   "source": [
    "Ans: Reinforcement learning is all about gamifying the learning process. This type of machine learning uses a reward-penalty method to teach an AI system. If it makes the right move, it gets rewarded. If it makes a mistake, it receives a penalty."
   ]
  },
  {
   "cell_type": "markdown",
   "id": "7e8f9267",
   "metadata": {},
   "source": [
    "### 5. Explain the term \"learning as a search\" ?"
   ]
  },
  {
   "cell_type": "markdown",
   "id": "fa477ea1",
   "metadata": {},
   "source": [
    "Ans: Concept learning can be viewed as the task of searching through a large space of hypotheses implicitly defined by the hypothesis representation. The goal of this search is to find the hypothesis that best fits the training examples."
   ]
  },
  {
   "cell_type": "markdown",
   "id": "78a102f7",
   "metadata": {},
   "source": [
    "### 6. What are the various goals of machine learning? What is the relationship between these and human learning ?"
   ]
  },
  {
   "cell_type": "markdown",
   "id": "a173f3a9",
   "metadata": {},
   "source": [
    "Ans: Goal of the Machine learning to create logic/rules to predict future event/process. In ML, we give Data and actual output to train the machine and as result we got the rules and base on these rules we can predict future event/process/moment etc. based on problem.\n",
    "\n",
    "Humans have the ability to learn, however with the progress in artificial intelligence, machine learning has become a resource which can augment or even replace human learning. Learning does not happen all at once, but it builds upon and is shaped by previous knowledge. "
   ]
  },
  {
   "cell_type": "markdown",
   "id": "f5479f89",
   "metadata": {},
   "source": [
    "### 7. Illustrate the various elements of machine learning using a real-life illustration ?"
   ]
  },
  {
   "cell_type": "markdown",
   "id": "a45918f1",
   "metadata": {},
   "source": [
    "Ans: The Various elements of the the Machine Learning are: \n",
    "1. Getting Data\n",
    "2. Analysing Data pattern\n",
    "3. Make data ready for model buliding\n",
    "4. Learning Algorithm\n",
    "5. Test model\n",
    "6. Model Evaluation\n",
    "7. Deployment"
   ]
  },
  {
   "cell_type": "markdown",
   "id": "7c32845a",
   "metadata": {},
   "source": [
    "### 8. Provide an example of the abstraction method ?"
   ]
  },
  {
   "cell_type": "markdown",
   "id": "f57ade8c",
   "metadata": {},
   "source": [
    "Ans: In Machine Learning, Abstraction is supported primarily at the level of modules. This can be justified in two ways: first, Data abstraction is mostly a question of program interfaces and therefore it arises naturally at the point where we have to consider program composition and modules."
   ]
  },
  {
   "cell_type": "markdown",
   "id": "7c51dc6c",
   "metadata": {},
   "source": [
    "### 9. What is the concept of generalization? What function does it play in the machine learning process ?"
   ]
  },
  {
   "cell_type": "markdown",
   "id": "79a59bc0",
   "metadata": {},
   "source": [
    "Ans: Generalization refers to your model's ability to adapt properly to new, previously unseen data, drawn from the same \n",
    "distribution as the one used to create the model.\n",
    "\n",
    "In machine learning, generalization is a definition to demonstrate how well is a trained model to classify or forecast  unseen data.This issue can result to classify an actual dog image as a cat from the unseen dataset. Therefore, data diversity is very important factor in order to make a good prediction."
   ]
  },
  {
   "cell_type": "markdown",
   "id": "7e161dc8",
   "metadata": {},
   "source": [
    "### 10. What is classification, exactly? What are the main distinctions between classification and regression ?"
   ]
  },
  {
   "cell_type": "markdown",
   "id": "544773af",
   "metadata": {},
   "source": [
    "Ans: In Machine Learning, Classification refers to a predictive modeling problem where a class label is predicted for a given example of input data.Classification is the task of predicting a discrete class label. Whereas Regression is the task of predicting a continuous quantity."
   ]
  },
  {
   "cell_type": "markdown",
   "id": "71af94f9",
   "metadata": {},
   "source": [
    "### 11. What is regression, and how does it work? Give an example of a real-world problem that was solved using regression ?"
   ]
  },
  {
   "cell_type": "markdown",
   "id": "78f64321",
   "metadata": {},
   "source": [
    "Ans: Regression is a Supervised Machine Learning technique which is used to predict continuous values. The ultimate goal of a regression algorithm is to plot a best-fit line or a curve between the data. \n",
    "\n",
    "The three main metrics that are used for evaluating the trained regression model are **Variance**, **Bias** and **Error**.\n",
    "\n",
    "A simple linear regression real life example could mean you finding a relationship between the revenue and temperature, with a sample size for revenue as the dependent variable. In case of multiple variable regression, you can find the relationship between temperature, pricing and number of workers to the revenue."
   ]
  },
  {
   "cell_type": "markdown",
   "id": "e276eabf",
   "metadata": {},
   "source": [
    "### 12. Describe the clustering mechanism in detail ?"
   ]
  },
  {
   "cell_type": "markdown",
   "id": "0a26e41e",
   "metadata": {},
   "source": [
    "Ans: Clustering is the task of dividing the population or data points into a number of groups such that data points in the same groups are more similar to other data points in the same group than those in other groups. In simple words, the aim is to segregate groups with similar traits and assign them into clusters."
   ]
  },
  {
   "cell_type": "markdown",
   "id": "745dde1d",
   "metadata": {},
   "source": [
    "### 13. Make brief observations on two of the following topics ?\n",
    "1. Machine learning algorithms are used\n",
    "2. Studying under supervision\n",
    "3. Studying without supervision\n",
    "4. Reinforcement learning is a form of learning based on positive reinforcement."
   ]
  },
  {
   "cell_type": "markdown",
   "id": "1e73407f",
   "metadata": {},
   "source": [
    "Ans: The breif observations on the following two topics is:\n",
    "\n",
    "- Machine learning algorithms are used: At its Most basic, Machine Learning uses programmed algorithms that receive and analyse input data to predict output values within an acceptable range. As new data is fed to these algorithms, they learn and optimise their operations to improve performance, developing intelligence over time.\n",
    "\n",
    "- Studying Under Supervision: In machine learning, there are two important categories- Supervised and Unsupervised learning.Supervised learning, an algorithm learns from a training dataset. We know the correct answers or desired output, the algorithm makes predictions using the given dataset and is corrected by the “supervisor”."
   ]
  }
 ],
 "metadata": {
  "kernelspec": {
   "display_name": "Python 3 (ipykernel)",
   "language": "python",
   "name": "python3"
  },
  "language_info": {
   "codemirror_mode": {
    "name": "ipython",
    "version": 3
   },
   "file_extension": ".py",
   "mimetype": "text/x-python",
   "name": "python",
   "nbconvert_exporter": "python",
   "pygments_lexer": "ipython3",
   "version": "3.9.12"
  }
 },
 "nbformat": 4,
 "nbformat_minor": 5
}
